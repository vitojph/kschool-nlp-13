{
 "cells": [
  {
   "cell_type": "markdown",
   "metadata": {},
   "source": [
    "# `spacy`: el *Ruby on Rails* del PLN\n",
    "\n",
    "[spacy](http://www.spacy.io/) es una librería de procesamiento del lenguaje natural, robusta, rápida, fácil de instalar y utilizar e integrable con [otras librerías de *NLP* y de *deep learning*](https://spacy.io/usage/facts-figures#section-other-libraries). \n",
    "\n",
    "Tiene modelos entrenados en varios idiomas y permite realizar las [típicas tareas](https://spacy.io/usage/facts-figures) de segmentación por oraciones, tokenizanción, análisis morfológico, extracción de entidades y análisis de opinión.\n",
    "\n",
    "Veamos cómo funciona. Lo primero es instalar algunos modelos, en inglés y español. Desde la línea de comandos, ejecuta:"
   ]
  },
  {
   "cell_type": "code",
   "execution_count": null,
   "metadata": {},
   "outputs": [],
   "source": [
    "python -m spacy download es\n",
    "#!sudo python3 -m spacy download es"
   ]
  },
  {
   "cell_type": "code",
   "execution_count": 1,
   "metadata": {},
   "outputs": [],
   "source": [
    "import spacy\n",
    "\n",
    "nlp = spacy.load('es')"
   ]
  },
  {
   "cell_type": "markdown",
   "metadata": {},
   "source": [
    "Una vez instalados los modelos, podemos importarlos fácilmente:"
   ]
  },
  {
   "cell_type": "code",
   "execution_count": 3,
   "metadata": {},
   "outputs": [],
   "source": [
    "import spacy\n",
    "\n",
    "# cargamos el modelo entrenado en español\n",
    "nlp = spacy.load('es')\n",
    "\n",
    "texto = '''España incumple la regla del déficit del euro y queda como único país bajo el control de Bruselas. \n",
    "España no aprobará finalmente la regla europa del déficit y se quedará como único país de la Eurozona que \n",
    "suspende y sigue bajo vigilancia. El Gobierno se salta finalmente el requisito de saneamiento presupuestario \n",
    "del Tratado de Maastricht y obtiene así más margen de gasto en 2018.'''\n",
    "\n",
    "# y procesamos el texto\n",
    "doc = nlp(texto)"
   ]
  },
  {
   "cell_type": "markdown",
   "metadata": {},
   "source": [
    "## Procesando oraciones, palabras y entidades\n",
    "\n",
    "Podemos iterar fácilmente sobre la lista de oraciones y recorrer los tokens para acceder a su información morfo-sintáctica:"
   ]
  },
  {
   "cell_type": "code",
   "execution_count": 4,
   "metadata": {},
   "outputs": [
    {
     "name": "stdout",
     "output_type": "stream",
     "text": [
      "Oración: España incumple la regla del déficit del euro y queda como único país bajo el control de Bruselas. \n",
      "\n",
      "España/España' => etiqueta PROPN/PROPN___ y dependencia nsubj\n",
      "incumple/incumplir' => etiqueta VERB/VERB__Mood=Ind|Number=Sing|Person=3|Tense=Pres|VerbForm=Fin y dependencia ROOT\n",
      "la/lo' => etiqueta DET/DET__Definite=Def|Gender=Fem|Number=Sing|PronType=Art y dependencia det\n",
      "regla/reglar' => etiqueta NOUN/NOUN__Gender=Fem|Number=Sing y dependencia obj\n",
      "del/del' => etiqueta ADP/ADP__AdpType=Preppron|Gender=Masc|Number=Sing y dependencia case\n",
      "déficit/déficit' => etiqueta NOUN/NOUN__Gender=Masc|Number=Sing y dependencia nmod\n",
      "del/del' => etiqueta ADP/ADP__AdpType=Preppron|Gender=Masc|Number=Sing y dependencia case\n",
      "euro/euro' => etiqueta NOUN/NOUN__Gender=Masc|Number=Sing y dependencia nmod\n",
      "y/y' => etiqueta CONJ/CCONJ___ y dependencia cc\n",
      "queda/quedo' => etiqueta VERB/VERB__Mood=Ind|Number=Sing|Person=3|Tense=Pres|VerbForm=Fin y dependencia conj\n",
      "como/comer' => etiqueta SCONJ/SCONJ___ y dependencia mark\n",
      "único/único' => etiqueta ADJ/ADJ__Gender=Masc|Number=Sing y dependencia amod\n",
      "país/país' => etiqueta NOUN/NOUN__Gender=Masc|Number=Sing y dependencia obj\n",
      "bajo/bajar' => etiqueta ADP/ADP__AdpType=Prep y dependencia case\n",
      "el/el' => etiqueta DET/DET__Definite=Def|Gender=Masc|Number=Sing|PronType=Art y dependencia det\n",
      "control/control' => etiqueta NOUN/NOUN__Gender=Masc|Number=Sing y dependencia obl\n",
      "de/de' => etiqueta ADP/ADP__AdpType=Prep y dependencia case\n",
      "Bruselas/Bruselas' => etiqueta PROPN/PROPN___ y dependencia nmod\n",
      "./.' => etiqueta PUNCT/PUNCT__PunctType=Peri y dependencia punct\n",
      "\n",
      "/\n",
      "' => etiqueta SPACE/ y dependencia \n",
      "Oración: España no aprobará finalmente la regla europa del déficit y se quedará como único país de la Eurozona que \n",
      "suspende y sigue bajo vigilancia.\n",
      "España/España' => etiqueta PROPN/PROPN___ y dependencia nsubj\n",
      "no/no' => etiqueta ADV/ADV__Polarity=Neg y dependencia advmod\n",
      "aprobará/aprobar' => etiqueta VERB/VERB__Mood=Ind|Number=Sing|Person=3|Tense=Fut|VerbForm=Fin y dependencia ROOT\n",
      "finalmente/finalmente' => etiqueta ADV/ADV___ y dependencia advmod\n",
      "la/lo' => etiqueta DET/DET__Definite=Def|Gender=Fem|Number=Sing|PronType=Art y dependencia det\n",
      "regla/reglar' => etiqueta NOUN/NOUN__Gender=Fem|Number=Sing y dependencia obj\n",
      "europa/europa' => etiqueta NOUN/NOUN__Gender=Fem|Number=Sing y dependencia amod\n",
      "del/del' => etiqueta ADP/ADP__AdpType=Preppron|Gender=Masc|Number=Sing y dependencia case\n",
      "déficit/déficit' => etiqueta NOUN/NOUN__Gender=Masc|Number=Sing y dependencia nmod\n",
      "y/y' => etiqueta CONJ/CCONJ___ y dependencia cc\n",
      "se/se' => etiqueta PRON/PRON__Person=3 y dependencia obj\n",
      "quedará/quedar' => etiqueta VERB/VERB__Mood=Ind|Number=Sing|Person=3|Tense=Fut|VerbForm=Fin y dependencia conj\n",
      "como/comer' => etiqueta SCONJ/SCONJ___ y dependencia mark\n",
      "único/único' => etiqueta ADJ/ADJ__Gender=Masc|Number=Sing y dependencia amod\n",
      "país/país' => etiqueta NOUN/NOUN__Gender=Masc|Number=Sing y dependencia obl\n",
      "de/de' => etiqueta ADP/ADP__AdpType=Prep y dependencia case\n",
      "la/lo' => etiqueta DET/DET__Definite=Def|Gender=Fem|Number=Sing|PronType=Art y dependencia det\n",
      "Eurozona/Eurozona' => etiqueta PROPN/PROPN___ y dependencia nmod\n",
      "que/que' => etiqueta PRON/PRON__PronType=Rel y dependencia nsubj\n",
      "\n",
      "/\n",
      "' => etiqueta SPACE/ y dependencia \n",
      "suspende/suspender' => etiqueta VERB/VERB__Mood=Ind|Number=Sing|Person=3|Tense=Pres|VerbForm=Fin y dependencia acl\n",
      "y/y' => etiqueta CONJ/CCONJ___ y dependencia cc\n",
      "sigue/seguir' => etiqueta VERB/VERB__Mood=Ind|Number=Sing|Person=3|Tense=Pres|VerbForm=Fin y dependencia conj\n",
      "bajo/bajar' => etiqueta ADP/ADP__AdpType=Prep y dependencia case\n",
      "vigilancia/vigilancia' => etiqueta NOUN/NOUN__Gender=Fem|Number=Sing y dependencia obl\n",
      "./.' => etiqueta PUNCT/PUNCT__PunctType=Peri y dependencia punct\n",
      "Oración: El Gobierno se salta finalmente el requisito de saneamiento presupuestario \n",
      "del Tratado de Maastricht y obtiene así más margen de gasto en 2018.\n",
      "El/El' => etiqueta DET/DET__Definite=Def|Gender=Masc|Number=Sing|PronType=Art y dependencia det\n",
      "Gobierno/Gobierno' => etiqueta PROPN/PROPN___ y dependencia nsubj\n",
      "se/se' => etiqueta PRON/PRON__Person=3 y dependencia obj\n",
      "salta/saltar' => etiqueta VERB/VERB__Mood=Ind|Number=Sing|Person=3|Tense=Pres|VerbForm=Fin y dependencia ROOT\n",
      "finalmente/finalmente' => etiqueta ADV/ADV___ y dependencia advmod\n",
      "el/el' => etiqueta DET/DET__Definite=Def|Gender=Masc|Number=Sing|PronType=Art y dependencia det\n",
      "requisito/requerir' => etiqueta NOUN/NOUN__Gender=Masc|Number=Sing y dependencia obj\n",
      "de/de' => etiqueta ADP/ADP__AdpType=Prep y dependencia case\n",
      "saneamiento/saneamiento' => etiqueta NOUN/NOUN__Gender=Masc|Number=Sing y dependencia nmod\n",
      "presupuestario/presupuestario' => etiqueta ADJ/ADJ__Gender=Masc|Number=Sing y dependencia amod\n",
      "\n",
      "/\n",
      "' => etiqueta SPACE/ y dependencia \n",
      "del/del' => etiqueta ADP/ADP__AdpType=Preppron|Gender=Masc|Number=Sing y dependencia case\n",
      "Tratado/Tratado' => etiqueta PROPN/PROPN___ y dependencia nmod\n",
      "de/de' => etiqueta ADP/ADP__AdpType=Prep y dependencia case\n",
      "Maastricht/Maastricht' => etiqueta PROPN/PROPN___ y dependencia flat\n",
      "y/y' => etiqueta CONJ/CCONJ___ y dependencia cc\n",
      "obtiene/obtener' => etiqueta VERB/VERB__Mood=Ind|Number=Sing|Person=3|Tense=Pres|VerbForm=Fin y dependencia conj\n",
      "así/asir' => etiqueta ADV/ADV___ y dependencia advmod\n",
      "más/más' => etiqueta ADV/ADV___ y dependencia advmod\n",
      "margen/margen' => etiqueta NOUN/NOUN__Number=Sing y dependencia obj\n",
      "de/de' => etiqueta ADP/ADP__AdpType=Prep y dependencia case\n",
      "gasto/gastar' => etiqueta NOUN/NOUN__Gender=Masc|Number=Sing y dependencia nmod\n",
      "en/en' => etiqueta ADP/ADP__AdpType=Prep y dependencia case\n",
      "2018/2018' => etiqueta NOUN/NOUN__AdvType=Tim y dependencia obl\n",
      "./.' => etiqueta PUNCT/PUNCT__PunctType=Peri y dependencia punct\n"
     ]
    }
   ],
   "source": [
    "for sentence in doc.sents:\n",
    "    print('Oración: {}'.format(sentence))\n",
    "    for token in sentence:\n",
    "        print(\"{}/{}' => etiqueta {}/{} y dependencia {}\".format(token, token.lemma_, token.pos_, token.tag_, token.dep_))"
   ]
  },
  {
   "cell_type": "markdown",
   "metadata": {},
   "source": [
    "El elemeno `doc` tiene una propiedad `.ents` que permite acceder a las entidades nombradas que hayan sido localizadas:"
   ]
  },
  {
   "cell_type": "code",
   "execution_count": 6,
   "metadata": {},
   "outputs": [
    {
     "name": "stdout",
     "output_type": "stream",
     "text": [
      "España es de tipo PER\n",
      "Bruselas es de tipo LOC\n",
      "\n",
      " es de tipo ORG\n",
      "España es de tipo LOC\n",
      "Eurozona es de tipo LOC\n",
      "\n",
      " es de tipo ORG\n",
      "El Gobierno es de tipo MISC\n",
      "\n",
      " es de tipo ORG\n",
      "Tratado de Maastricht es de tipo MISC\n"
     ]
    }
   ],
   "source": [
    "for entity in doc.ents:\n",
    "    print('{} es de tipo {}'.format(entity, entity.label_))"
   ]
  },
  {
   "cell_type": "markdown",
   "metadata": {},
   "source": [
    "## Visualizando árboles de dependencias y entidades\n",
    "\n",
    "Podemos acceder al árbol completo a través del método `.print_tree()`:"
   ]
  },
  {
   "cell_type": "code",
   "execution_count": null,
   "metadata": {},
   "outputs": [],
   "source": [
    "doc.print_tree()"
   ]
  },
  {
   "cell_type": "markdown",
   "metadata": {},
   "source": [
    "Pero también se puede dibujar el grafo con las dependencias:"
   ]
  },
  {
   "cell_type": "code",
   "execution_count": 7,
   "metadata": {},
   "outputs": [
    {
     "name": "stdout",
     "output_type": "stream",
     "text": [
      "\n",
      "\u001b[93m    Serving on port 5000...\u001b[0m\n",
      "    Using the 'dep' visualizer\n",
      "\n"
     ]
    },
    {
     "name": "stderr",
     "output_type": "stream",
     "text": [
      "213.98.131.186 - - [23/Mar/2019 11:46:53] \"GET / HTTP/1.1\" 200 51265\n",
      "213.98.131.186 - - [23/Mar/2019 11:46:53] \"GET /favicon.ico HTTP/1.1\" 200 51265\n"
     ]
    },
    {
     "name": "stdout",
     "output_type": "stream",
     "text": [
      "\n",
      "    Shutting down server on port 5000.\n",
      "\n"
     ]
    }
   ],
   "source": [
    "from spacy import displacy\n",
    "displacy.serve(doc, style='dep')"
   ]
  },
  {
   "cell_type": "markdown",
   "metadata": {},
   "source": [
    "O el de las entidades:"
   ]
  },
  {
   "cell_type": "code",
   "execution_count": 8,
   "metadata": {},
   "outputs": [
    {
     "name": "stdout",
     "output_type": "stream",
     "text": [
      "\n",
      "\u001b[93m    Serving on port 5000...\u001b[0m\n",
      "    Using the 'ent' visualizer\n",
      "\n"
     ]
    },
    {
     "name": "stderr",
     "output_type": "stream",
     "text": [
      "213.98.131.186 - - [23/Mar/2019 11:47:54] \"GET / HTTP/1.1\" 200 4263\n"
     ]
    },
    {
     "name": "stdout",
     "output_type": "stream",
     "text": [
      "\n",
      "    Shutting down server on port 5000.\n",
      "\n"
     ]
    }
   ],
   "source": [
    "from spacy import displacy\n",
    "displacy.serve(doc, style='ent')"
   ]
  },
  {
   "cell_type": "code",
   "execution_count": null,
   "metadata": {},
   "outputs": [],
   "source": [
    "nlp_en = spacy.load(\"en\")\n",
    "text = "
   ]
  },
  {
   "cell_type": "code",
   "execution_count": null,
   "metadata": {},
   "outputs": [],
   "source": [
    "texto = \"\"\"Pablo Casado negoció el pasado 5 de julio de 2016 su título de máster en la URJC.\"\"\"\n",
    "doc = nlp(texto)\n",
    "displacy.serve(doc, style='ent')"
   ]
  },
  {
   "cell_type": "code",
   "execution_count": 9,
   "metadata": {},
   "outputs": [
    {
     "name": "stdout",
     "output_type": "stream",
     "text": [
      "\n",
      "\u001b[93m    Serving on port 5000...\u001b[0m\n",
      "    Using the 'ent' visualizer\n",
      "\n"
     ]
    },
    {
     "name": "stderr",
     "output_type": "stream",
     "text": [
      "213.98.131.186 - - [23/Mar/2019 11:49:42] \"GET / HTTP/1.1\" 200 3822\n"
     ]
    },
    {
     "name": "stdout",
     "output_type": "stream",
     "text": [
      "\n",
      "    Shutting down server on port 5000.\n",
      "\n"
     ]
    }
   ],
   "source": [
    "nlp_en = spacy.load('en')\n",
    "text = '''A trade war between the world’s two largest economies officially began on Friday morning as the Trump administration followed through with its threat to impose tariffs on $34 billion worth of Chinese products, a significant escalation of a fight that could hurt companies and consumers in both the United States and China.'''\n",
    "doc = nlp_en(text)\n",
    "displacy.serve(doc, style='ent')"
   ]
  },
  {
   "cell_type": "markdown",
   "metadata": {},
   "source": [
    "## Similitud semántica entre palabras, frases y documentos\n",
    "\n",
    "spaCy permite [calcular la similitud semántica](https://spacy.io/usage/vectors-similarity) entre cualquier par de objetos de tipo `Doc`, `Span` o `Token`. \n",
    "\n",
    "Ojo, La similitud semántica es un concepto algo subjetivo, pero en este caso se puede entender como la probabilidad de que dos palabras aparezcan en los mismos contextos."
   ]
  },
  {
   "cell_type": "code",
   "execution_count": 10,
   "metadata": {},
   "outputs": [
    {
     "name": "stdout",
     "output_type": "stream",
     "text": [
      "cats vs dogs 0.48946518\n",
      "research vs development 0.66385657\n",
      "cats vs development 0.12199358\n"
     ]
    }
   ],
   "source": [
    "# analizamos algunas colocaciones en inglés\n",
    "token1, _, token2 = nlp_en(\"cats and dogs\")\n",
    "token3, _, token4 = nlp_en(\"research and development\")\n",
    "\n",
    "# medimos la similitud semántica entre algunos pares\n",
    "print(token1, \"vs\", token2, token1.similarity(token2))\n",
    "print(token3, \"vs\", token4, token3.similarity(token4))\n",
    "print(token1, \"vs\", token4, token1.similarity(token4))"
   ]
  },
  {
   "cell_type": "code",
   "execution_count": 2,
   "metadata": {},
   "outputs": [
    {
     "name": "stdout",
     "output_type": "stream",
     "text": [
      "Collecting spacy\n",
      "\u001b[33m  Cache entry deserialization failed, entry ignored\u001b[0m\n",
      "  Downloading https://files.pythonhosted.org/packages/24/91/958a2429968bc47bc5c8c210d4962a5f97f3c6935a05a3a0902fd5359b93/spacy-2.1.2-cp36-cp36m-manylinux1_x86_64.whl (27.7MB)\n",
      "\u001b[K    100% |████████████████████████████████| 27.7MB 39kB/s  eta 0:00:01   18% |█████▉                          | 5.0MB 29.1MB/s eta 0:00:01    36% |███████████▊                    | 10.1MB 30.1MB/s eta 0:00:01    59% |███████████████████             | 16.4MB 27.5MB/s eta 0:00:01    89% |████████████████████████████▋   | 24.7MB 22.5MB/s eta 0:00:01    93% |██████████████████████████████  | 25.9MB 27.0MB/s eta 0:00:01\n",
      "\u001b[?25hCollecting plac<1.0.0,>=0.9.6 (from spacy)\n",
      "\u001b[33m  Cache entry deserialization failed, entry ignored\u001b[0m\n",
      "\u001b[33m  Cache entry deserialization failed, entry ignored\u001b[0m\n",
      "  Downloading https://files.pythonhosted.org/packages/9e/9b/62c60d2f5bc135d2aa1d8c8a86aaf84edb719a59c7f11a4316259e61a298/plac-0.9.6-py2.py3-none-any.whl\n",
      "Collecting murmurhash<1.1.0,>=0.28.0 (from spacy)\n",
      "\u001b[33m  Cache entry deserialization failed, entry ignored\u001b[0m\n",
      "  Downloading https://files.pythonhosted.org/packages/a6/e6/63f160a4fdf0e875d16b28f972083606d8d54f56cd30cb8929f9a1ee700e/murmurhash-1.0.2-cp36-cp36m-manylinux1_x86_64.whl\n",
      "Collecting requests<3.0.0,>=2.13.0 (from spacy)\n",
      "\u001b[33m  Cache entry deserialization failed, entry ignored\u001b[0m\n",
      "  Using cached https://files.pythonhosted.org/packages/7d/e3/20f3d364d6c8e5d2353c72a67778eb189176f08e873c9900e10c0287b84b/requests-2.21.0-py2.py3-none-any.whl\n",
      "Collecting numpy>=1.15.0 (from spacy)\n",
      "\u001b[33m  Cache entry deserialization failed, entry ignored\u001b[0m\n",
      "  Using cached https://files.pythonhosted.org/packages/35/d5/4f8410ac303e690144f0a0603c4b8fd3b986feb2749c435f7cdbb288f17e/numpy-1.16.2-cp36-cp36m-manylinux1_x86_64.whl\n",
      "Collecting wasabi<1.1.0,>=0.2.0 (from spacy)\n",
      "\u001b[33m  Cache entry deserialization failed, entry ignored\u001b[0m\n",
      "  Downloading https://files.pythonhosted.org/packages/09/49/dbfd9a14b0fba9d005a5d02f5164f1316948a3b95f7a96eb159eee5dd646/wasabi-0.2.0-py3-none-any.whl\n",
      "Collecting blis<0.3.0,>=0.2.2 (from spacy)\n",
      "\u001b[33m  Cache entry deserialization failed, entry ignored\u001b[0m\n",
      "  Downloading https://files.pythonhosted.org/packages/34/46/b1d0bb71d308e820ed30316c5f0a017cb5ef5f4324bcbc7da3cf9d3b075c/blis-0.2.4-cp36-cp36m-manylinux1_x86_64.whl (3.2MB)\n",
      "\u001b[K    100% |████████████████████████████████| 3.2MB 362kB/s eta 0:00:01    38% |████████████▎                   | 1.2MB 27.3MB/s eta 0:00:01\n",
      "\u001b[?25hCollecting srsly<1.1.0,>=0.0.5 (from spacy)\n",
      "\u001b[33m  Cache entry deserialization failed, entry ignored\u001b[0m\n",
      "  Downloading https://files.pythonhosted.org/packages/6b/97/47753e3393aa4b18de9f942fac26f18879d1ae950243a556888f389d1398/srsly-0.0.5-cp36-cp36m-manylinux1_x86_64.whl (180kB)\n",
      "\u001b[K    100% |████████████████████████████████| 184kB 5.5MB/s eta 0:00:01\n",
      "\u001b[?25hCollecting jsonschema<3.0.0,>=2.6.0 (from spacy)\n",
      "  Downloading https://files.pythonhosted.org/packages/77/de/47e35a97b2b05c2fadbec67d44cfcdcd09b8086951b331d82de90d2912da/jsonschema-2.6.0-py2.py3-none-any.whl\n",
      "Collecting cymem<2.1.0,>=2.0.2 (from spacy)\n",
      "\u001b[33m  Cache entry deserialization failed, entry ignored\u001b[0m\n",
      "  Downloading https://files.pythonhosted.org/packages/3d/61/9b0520c28eb199a4b1ca667d96dd625bba003c14c75230195f9691975f85/cymem-2.0.2-cp36-cp36m-manylinux1_x86_64.whl\n",
      "Collecting preshed<2.1.0,>=2.0.1 (from spacy)\n",
      "\u001b[33m  Cache entry deserialization failed, entry ignored\u001b[0m\n",
      "  Downloading https://files.pythonhosted.org/packages/20/93/f222fb957764a283203525ef20e62008675fd0a14ffff8cc1b1490147c63/preshed-2.0.1-cp36-cp36m-manylinux1_x86_64.whl (83kB)\n",
      "\u001b[K    100% |████████████████████████████████| 92kB 8.7MB/s eta 0:00:01\n",
      "\u001b[?25hCollecting thinc<7.1.0,>=7.0.2 (from spacy)\n",
      "\u001b[33m  Cache entry deserialization failed, entry ignored\u001b[0m\n",
      "  Downloading https://files.pythonhosted.org/packages/a9/f1/3df317939a07b2fc81be1a92ac10bf836a1d87b4016346b25f8b63dee321/thinc-7.0.4-cp36-cp36m-manylinux1_x86_64.whl (2.1MB)\n",
      "\u001b[K    100% |████████████████████████████████| 2.1MB 541kB/s eta 0:00:01\n",
      "\u001b[?25hCollecting urllib3<1.25,>=1.21.1 (from requests<3.0.0,>=2.13.0->spacy)\n",
      "\u001b[33m  Cache entry deserialization failed, entry ignored\u001b[0m\n",
      "\u001b[33m  Cache entry deserialization failed, entry ignored\u001b[0m\n",
      "  Downloading https://files.pythonhosted.org/packages/62/00/ee1d7de624db8ba7090d1226aebefab96a2c71cd5cfa7629d6ad3f61b79e/urllib3-1.24.1-py2.py3-none-any.whl (118kB)\n",
      "\u001b[K    100% |████████████████████████████████| 122kB 4.1MB/s eta 0:00:01\n",
      "\u001b[?25hCollecting chardet<3.1.0,>=3.0.2 (from requests<3.0.0,>=2.13.0->spacy)\n",
      "\u001b[33m  Cache entry deserialization failed, entry ignored\u001b[0m\n",
      "\u001b[33m  Cache entry deserialization failed, entry ignored\u001b[0m\n",
      "  Downloading https://files.pythonhosted.org/packages/bc/a9/01ffebfb562e4274b6487b4bb1ddec7ca55ec7510b22e4c51f14098443b8/chardet-3.0.4-py2.py3-none-any.whl (133kB)\n",
      "\u001b[K    100% |████████████████████████████████| 143kB 4.9MB/s eta 0:00:01   53% |█████████████████▏              | 71kB 26.2MB/s eta 0:00:01\n",
      "\u001b[?25hCollecting idna<2.9,>=2.5 (from requests<3.0.0,>=2.13.0->spacy)\n",
      "  Downloading https://files.pythonhosted.org/packages/14/2c/cd551d81dbe15200be1cf41cd03869a46fe7226e7450af7a6545bfc474c9/idna-2.8-py2.py3-none-any.whl (58kB)\n",
      "\u001b[K    100% |████████████████████████████████| 61kB 8.0MB/s eta 0:00:01\n",
      "\u001b[?25hCollecting certifi>=2017.4.17 (from requests<3.0.0,>=2.13.0->spacy)\n",
      "  Downloading https://files.pythonhosted.org/packages/60/75/f692a584e85b7eaba0e03827b3d51f45f571c2e793dd731e598828d380aa/certifi-2019.3.9-py2.py3-none-any.whl (158kB)\n",
      "\u001b[K    100% |████████████████████████████████| 163kB 4.7MB/s eta 0:00:01\n",
      "\u001b[?25hCollecting tqdm<5.0.0,>=4.10.0 (from thinc<7.1.0,>=7.0.2->spacy)\n",
      "\u001b[33m  Cache entry deserialization failed, entry ignored\u001b[0m\n",
      "  Using cached https://files.pythonhosted.org/packages/6c/4b/c38b5144cf167c4f52288517436ccafefe9dc01b8d1c190e18a6b154cd4a/tqdm-4.31.1-py2.py3-none-any.whl\n",
      "Installing collected packages: plac, murmurhash, urllib3, chardet, idna, certifi, requests, numpy, wasabi, blis, srsly, jsonschema, cymem, preshed, tqdm, thinc, spacy\n",
      "Successfully installed blis-0.2.4 certifi-2019.3.9 chardet-3.0.4 cymem-2.0.2 idna-2.8 jsonschema-2.6.0 murmurhash-1.0.2 numpy-1.16.2 plac-0.9.6 preshed-2.0.1 requests-2.21.0 spacy-2.1.2 srsly-0.0.5 thinc-7.0.4 tqdm-4.31.1 urllib3-1.24.1 wasabi-0.2.0\n"
     ]
    }
   ],
   "source": [
    "!pip3 install -U spacy"
   ]
  },
  {
   "cell_type": "code",
   "execution_count": 18,
   "metadata": {},
   "outputs": [
    {
     "name": "stdout",
     "output_type": "stream",
     "text": [
      "perros vs gatos 0.63729906\n",
      "investigación vs desarrollo 0.25863796\n",
      "perros vs desarrollo 0.20336218\n"
     ]
    }
   ],
   "source": [
    "# ¿qué tal funciona en español?\n",
    "token1, _, token2 = nlp(\"perros y gatos\")\n",
    "token3, _, token4 = nlp(\"investigación y desarrollo\")\n",
    "\n",
    "# medimos la similitud semántica entre algunos pares\n",
    "print(token1, \"vs\", token2, token1.similarity(token2))\n",
    "print(token3, \"vs\", token4, token3.similarity(token4))\n",
    "print(token1, \"vs\", token4, token1.similarity(token4))"
   ]
  }
 ],
 "metadata": {
  "kernelspec": {
   "display_name": "Python 3",
   "language": "python",
   "name": "python3"
  },
  "language_info": {
   "codemirror_mode": {
    "name": "ipython",
    "version": 3
   },
   "file_extension": ".py",
   "mimetype": "text/x-python",
   "name": "python",
   "nbconvert_exporter": "python",
   "pygments_lexer": "ipython3",
   "version": "3.6.7"
  }
 },
 "nbformat": 4,
 "nbformat_minor": 2
}
